{
  "nbformat": 4,
  "nbformat_minor": 0,
  "metadata": {
    "colab": {
      "provenance": [],
      "authorship_tag": "ABX9TyMi82C6iamCWJCX4rkp8r0K",
      "include_colab_link": true
    },
    "kernelspec": {
      "name": "python3",
      "display_name": "Python 3"
    },
    "language_info": {
      "name": "python"
    }
  },
  "cells": [
    {
      "cell_type": "markdown",
      "metadata": {
        "id": "view-in-github",
        "colab_type": "text"
      },
      "source": [
        "<a href=\"https://colab.research.google.com/github/JeevithaR3/Big_Data_Analytics_Disease_Prediction/blob/main/BDA_Assignment1.ipynb\" target=\"_parent\"><img src=\"https://colab.research.google.com/assets/colab-badge.svg\" alt=\"Open In Colab\"/></a>"
      ]
    },
    {
      "cell_type": "code",
      "execution_count": null,
      "metadata": {
        "colab": {
          "base_uri": "https://localhost:8080/"
        },
        "id": "dLuGZk-lvhqa",
        "outputId": "2750164f-f04f-4a96-93f3-102cf65bd31d"
      },
      "outputs": [
        {
          "output_type": "stream",
          "name": "stdout",
          "text": [
            "Requirement already satisfied: pyspark in /usr/local/lib/python3.12/dist-packages (3.5.1)\n",
            "Requirement already satisfied: py4j==0.10.9.7 in /usr/local/lib/python3.12/dist-packages (from pyspark) (0.10.9.7)\n"
          ]
        }
      ],
      "source": [
        "!pip install pyspark"
      ]
    },
    {
      "cell_type": "code",
      "source": [
        "from pyspark.sql import SparkSession\n",
        "from pyspark.ml.feature import VectorAssembler, StandardScaler\n",
        "from pyspark.ml.classification import LogisticRegression, RandomForestClassifier\n",
        "from pyspark.ml.evaluation import BinaryClassificationEvaluator\n",
        "import pandas as pd"
      ],
      "metadata": {
        "id": "bUXvoUkNvnZp"
      },
      "execution_count": null,
      "outputs": []
    },
    {
      "cell_type": "code",
      "source": [
        "spark = SparkSession.builder.appName(\"DiabetesProbability\").getOrCreate()"
      ],
      "metadata": {
        "id": "uACRPHA0vuBN"
      },
      "execution_count": null,
      "outputs": []
    },
    {
      "cell_type": "code",
      "source": [
        "data = spark.read.csv(\"/content/diabetes.csv\", header=True, inferSchema=True) #loads it to a dataframe\n",
        "data = data.na.fill(0) #fills all the missing values with 0\n",
        "input_cols = [\"Pregnancies\",\"Glucose\",\"BloodPressure\",\"SkinThickness\",\"Insulin\",\"BMI\",\"DiabetesPedigreeFunction\",\"Age\"] #lists which features u would want to use\n",
        "assembler = VectorAssembler(inputCols=input_cols, outputCol=\"features_raw\") #\n",
        "assembled = assembler.transform(data)"
      ],
      "metadata": {
        "id": "P4ixN9-Zvxnu"
      },
      "execution_count": null,
      "outputs": []
    },
    {
      "cell_type": "code",
      "source": [
        "scaler = StandardScaler(inputCol=\"features_raw\", outputCol=\"features\") #noramlization, scales all feature values so that large numbers don't overshadow the smaller ones\n",
        "scaler_model = scaler.fit(assembled)\n",
        "scaled_data = scaler_model.transform(assembled)\n",
        "train_data, test_data = scaled_data.randomSplit([0.7, 0.3], seed=42)"
      ],
      "metadata": {
        "id": "fKTzXJHPv4pP"
      },
      "execution_count": null,
      "outputs": []
    },
    {
      "cell_type": "code",
      "source": [
        "lr = LogisticRegression(featuresCol=\"features\", labelCol=\"Outcome\")\n",
        "lr_model = lr.fit(train_data)\n",
        "rf = RandomForestClassifier(featuresCol=\"features\", labelCol=\"Outcome\", numTrees=50)\n",
        "rf_model = rf.fit(train_data)"
      ],
      "metadata": {
        "id": "-1ANMMLEwIfV"
      },
      "execution_count": null,
      "outputs": []
    },
    {
      "cell_type": "code",
      "source": [
        "evaluator = BinaryClassificationEvaluator(labelCol=\"Outcome\")\n",
        "lr_pred = lr_model.transform(test_data)\n",
        "rf_pred = rf_model.transform(test_data)\n",
        "lr_acc = evaluator.evaluate(lr_pred)\n",
        "rf_acc = evaluator.evaluate(rf_pred)\n",
        "print(f\"Logistic Regression AUC: {lr_acc:.3f}\")\n",
        "print(f\"Random Forest AUC: {rf_acc:.3f}\")"
      ],
      "metadata": {
        "colab": {
          "base_uri": "https://localhost:8080/"
        },
        "id": "IZgh21BTwK6y",
        "outputId": "b2023541-93ed-4ef0-e08b-80b21e120204"
      },
      "execution_count": null,
      "outputs": [
        {
          "output_type": "stream",
          "name": "stdout",
          "text": [
            "Logistic Regression AUC: 0.851\n",
            "Random Forest AUC: 0.840\n"
          ]
        }
      ]
    },
    {
      "cell_type": "code",
      "source": [
        "feature_order = [\"Pregnancies\",\"Glucose\",\"BloodPressure\",\"SkinThickness\",\"Insulin\",\"BMI\",\"DiabetesPedigreeFunction\",\"Age\"]"
      ],
      "metadata": {
        "id": "AqZzFxmQwRtc"
      },
      "execution_count": null,
      "outputs": []
    },
    {
      "cell_type": "code",
      "source": [
        "user_features = [(2, 120, 70, 22, 80, 25.0, 0.4, 33)] # Replace with desired values\n",
        "user_df = spark.createDataFrame(user_features, feature_order)\n",
        "user_assembled = assembler.transform(user_df)\n",
        "user_scaled = scaler_model.transform(user_assembled)"
      ],
      "metadata": {
        "id": "3PcFdVWcwZua"
      },
      "execution_count": null,
      "outputs": []
    },
    {
      "cell_type": "code",
      "source": [
        "chosen_model = lr_model if lr_acc > rf_acc else rf_model\n",
        "\n",
        "user_pred = chosen_model.transform(user_scaled)\n",
        "user_prob = user_pred.select(\"probability\").collect()[0][0][1]\n",
        "print(f\"Predicted Probability of Diabetes: {user_prob:.2%}\")"
      ],
      "metadata": {
        "id": "lbpNZxIxwb2O",
        "outputId": "29b07a21-08f8-4c68-cc68-b18a792f59a0",
        "colab": {
          "base_uri": "https://localhost:8080/"
        }
      },
      "execution_count": null,
      "outputs": [
        {
          "output_type": "stream",
          "name": "stdout",
          "text": [
            "Predicted Probability of Diabetes: 14.47%\n"
          ]
        }
      ]
    },
    {
      "cell_type": "code",
      "source": [],
      "metadata": {
        "id": "xFN0t0m1wd9Q"
      },
      "execution_count": null,
      "outputs": []
    }
  ]
}